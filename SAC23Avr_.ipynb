{
  "nbformat": 4,
  "nbformat_minor": 0,
  "metadata": {
    "colab": {
      "provenance": [],
      "gpuType": "T4",
      "authorship_tag": "ABX9TyN9xcz4MdFSJ1sL9NCA4GZU",
      "include_colab_link": true
    },
    "kernelspec": {
      "name": "python3",
      "display_name": "Python 3"
    },
    "language_info": {
      "name": "python"
    },
    "accelerator": "GPU"
  },
  "cells": [
    {
      "cell_type": "markdown",
      "metadata": {
        "id": "view-in-github",
        "colab_type": "text"
      },
      "source": [
        "<a href=\"https://colab.research.google.com/github/ezzeddinegasmi/DRL_comparative_study/blob/main/SAC23Avr_.ipynb\" target=\"_parent\"><img src=\"https://colab.research.google.com/assets/colab-badge.svg\" alt=\"Open In Colab\"/></a>"
      ]
    },
    {
      "cell_type": "code",
      "source": [
        "import stable_baselines3, gymnasium, sys\n",
        "print(\"SB3:\", stable_baselines3.__version__)\n",
        "print(\"Gymnasium:\", gymnasium.__version__)"
      ],
      "metadata": {
        "colab": {
          "base_uri": "https://localhost:8080/"
        },
        "id": "JXc4HrNahXVs",
        "outputId": "43f30371-9775-4324-eef3-7268e5e3628a"
      },
      "execution_count": 83,
      "outputs": [
        {
          "output_type": "stream",
          "name": "stdout",
          "text": [
            "SB3: 2.3.2\n",
            "Gymnasium: 0.29.1\n"
          ]
        }
      ]
    },
    {
      "cell_type": "code",
      "source": [
        "IN_COLAB = \"google.colab\" in globals()\n",
        "if IN_COLAB:\n",
        "    !pip install -U \"stable-baselines3[extra]==2.3.2\" gymnasium pygame --quiet\n",
        "\n",
        "# =========================================================\n",
        "# 2) Imports et fix headless ------------------------------\n",
        "# ---------------------------------------------------------\n",
        "import os, random, numpy as np\n",
        "import gymnasium as gym\n",
        "from gymnasium import spaces\n",
        "from stable_baselines3 import SAC\n",
        "from stable_baselines3.common.env_checker import check_env\n",
        "\n",
        "# Colab (sans écran) → éviter le crash SDL\n",
        "os.environ.setdefault(\"SDL_VIDEODRIVER\", \"dummy\")\n",
        "\n",
        "# =========================================================\n",
        "# 3) Environnement Breakout continu -----------------------\n",
        "# ---------------------------------------------------------\n",
        "class BreakoutContinuousEnv(gym.Env):\n",
        "    \"\"\"Breakout minimal compatible Gymnasium (obs 5, action 1).\"\"\"\n",
        "    metadata = {\"render_modes\": [\"human\"], \"render_fps\": 60}\n",
        "\n",
        "    def __init__(self, render_mode: str | None = None):\n",
        "        super().__init__()\n",
        "        self.render_mode = render_mode\n",
        "        # Dimensions de l'aire de jeu\n",
        "        self.W, self.H = 400, 300\n",
        "        # Paddle & balle\n",
        "        self.P_W, self.P_H, self.BALL = 60, 10, 8\n",
        "        # Espaces\n",
        "        self.action_space = spaces.Box(low=-1.0, high=1.0,\n",
        "                                       shape=(1,), dtype=np.float32)\n",
        "        low  = np.array([0,       0, -5, -5,    0], dtype=np.float32)\n",
        "        high = np.array([self.W, self.H,  5,  5, self.W], dtype=np.float32)\n",
        "        self.observation_space = spaces.Box(low=low, high=high,\n",
        "                                            dtype=np.float32)\n",
        "\n",
        "        # PyGame\n",
        "        self._pygame_ready, self.clock = False, None\n",
        "        self.reset(seed=42)\n",
        "\n",
        "    # ---------- helpers ----------\n",
        "    def _obs(self):\n",
        "        return np.array(\n",
        "            [self.ball_x, self.ball_y, self.ball_vx,\n",
        "             self.ball_vy, self.pad_x], dtype=np.float32)\n",
        "\n",
        "    # ---------- API Gymnasium ----------\n",
        "    def reset(self, *, seed=None, options=None):\n",
        "        super().reset(seed=seed)\n",
        "        rng = random.Random(seed)\n",
        "        self.pad_x = self.W / 2\n",
        "        self.ball_x, self.ball_y = self.W / 2, self.H / 2\n",
        "        self.ball_vx, self.ball_vy = rng.choice([-3, 3]), -3\n",
        "        self.score, self.t = 0, 0\n",
        "        self.terminated = self.truncated = False\n",
        "        return self._obs(), {}\n",
        "\n",
        "    def step(self, action):\n",
        "        self.t += 1\n",
        "        # 1) paddle\n",
        "        self.pad_x = np.clip(self.pad_x + float(action[0]) * 10,\n",
        "                             0, self.W - self.P_W)\n",
        "        # 2) balle\n",
        "        self.ball_x += self.ball_vx\n",
        "        self.ball_y += self.ball_vy\n",
        "        if self.ball_x <= 0 or self.ball_x >= self.W:\n",
        "            self.ball_vx *= -1\n",
        "        if self.ball_y <= 0:\n",
        "            self.ball_vy *= -1\n",
        "        # 3) collisions paddle / sol\n",
        "        reward = -0.01\n",
        "        if (self.ball_y + self.BALL >= self.H - self.P_H\n",
        "                and self.pad_x <= self.ball_x <= self.pad_x + self.P_W):\n",
        "            self.ball_vy *= -1\n",
        "            self.score += 1\n",
        "            reward = 1.0\n",
        "        elif self.ball_y > self.H:\n",
        "            self.terminated = True\n",
        "            reward = -10.0\n",
        "        # 4) time-limit\n",
        "        if self.t >= 500:\n",
        "            self.truncated = True\n",
        "        # rendu\n",
        "        if self.render_mode == \"human\":\n",
        "            self.render()\n",
        "        return self._obs(), reward, self.terminated, self.truncated, {}\n",
        "\n",
        "    # ---------- rendu ----------\n",
        "    def _init_pygame(self):\n",
        "        import pygame\n",
        "        pygame.init()\n",
        "        self.screen = pygame.display.set_mode((self.W, self.H))\n",
        "        pygame.display.set_caption(\"Breakout continuous\")\n",
        "        self.clock = pygame.time.Clock()\n",
        "        self._pygame_ready = True\n",
        "\n",
        "    def render(self):\n",
        "        import pygame\n",
        "        if not self._pygame_ready:\n",
        "            self._init_pygame()\n",
        "        self.screen.fill((0, 0, 0))\n",
        "        pygame.draw.circle(self.screen, (255, 255, 255),\n",
        "                           (int(self.ball_x), int(self.ball_y)), self.BALL)\n",
        "        pygame.draw.rect(self.screen, (0, 255, 0),\n",
        "                         pygame.Rect(int(self.pad_x), self.H - self.P_H,\n",
        "                                     self.P_W, self.P_H))\n",
        "        pygame.display.flip()\n",
        "        self.clock.tick(self.metadata[\"render_fps\"])\n",
        "\n",
        "    def close(self):\n",
        "        if self._pygame_ready:\n",
        "            import pygame\n",
        "            pygame.quit()\n",
        "            self._pygame_ready = False\n",
        "\n",
        "# =========================================================\n",
        "# 4) Validation rapide ------------------------------------\n",
        "# ---------------------------------------------------------\n",
        "try:\n",
        "    env = BreakoutContinuousEnv()\n",
        "    check_env(env, warn=True)\n",
        "    print(\"✅ check_env passed\")\n",
        "\n",
        "    model = SAC(\"MlpPolicy\", env, verbose=1)\n",
        "    model.learn(total_timesteps=1_000)\n",
        "    print(\"✅ learn 1 000 steps OK\")\n",
        "\n",
        "except Exception as e:\n",
        "    import traceback, sys\n",
        "    traceback.print_exc(file=sys.stdout)"
      ],
      "metadata": {
        "colab": {
          "base_uri": "https://localhost:8080/"
        },
        "id": "jhl7avJOhMhD",
        "outputId": "059a0295-846f-4645-e287-98a745dd67bb"
      },
      "execution_count": null,
      "outputs": [
        {
          "output_type": "stream",
          "name": "stdout",
          "text": [
            "✅ check_env passed\n",
            "Using cpu device\n",
            "Wrapping the env with a `Monitor` wrapper\n",
            "Wrapping the env in a DummyVecEnv.\n",
            "---------------------------------\n",
            "| rollout/           |          |\n",
            "|    ep_len_mean     | 198      |\n",
            "|    ep_rew_mean     | -11.7    |\n",
            "| time/              |          |\n",
            "|    episodes        | 4        |\n",
            "|    fps             | 33       |\n",
            "|    time_elapsed    | 23       |\n",
            "|    total_timesteps | 792      |\n",
            "| train/             |          |\n",
            "|    actor_loss      | 43.2     |\n",
            "|    critic_loss     | 36.3     |\n",
            "|    ent_coef        | 1.23     |\n",
            "|    ent_coef_loss   | -0.608   |\n",
            "|    learning_rate   | 0.0003   |\n",
            "|    n_updates       | 691      |\n",
            "---------------------------------\n"
          ]
        }
      ]
    }
  ]
}